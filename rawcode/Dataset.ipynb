{
  "nbformat": 4,
  "nbformat_minor": 0,
  "metadata": {
    "colab": {
      "name": "Dataset.ipynb",
      "provenance": [],
      "collapsed_sections": [],
      "toc_visible": true,
      "authorship_tag": "ABX9TyMIyM+kdGnKzfhJ51UDiKeZ"
    },
    "kernelspec": {
      "name": "python3",
      "display_name": "Python 3"
    },
    "accelerator": "GPU"
  },
  "cells": [
    {
      "cell_type": "code",
      "metadata": {
        "colab": {
          "base_uri": "https://localhost:8080/"
        },
        "id": "zuoiVPWlIsN3",
        "outputId": "b1eaebcd-38a7-4819-d86f-444bd7190727"
      },
      "source": [
        "!nvcc --version\r\n",
        "!pip install open3d\r\n",
        "!pip install trimesh"
      ],
      "execution_count": null,
      "outputs": [
        {
          "output_type": "stream",
          "text": [
            "nvcc: NVIDIA (R) Cuda compiler driver\n",
            "Copyright (c) 2005-2019 NVIDIA Corporation\n",
            "Built on Sun_Jul_28_19:07:16_PDT_2019\n",
            "Cuda compilation tools, release 10.1, V10.1.243\n",
            "Collecting open3d\n",
            "\u001b[?25l  Downloading https://files.pythonhosted.org/packages/d3/2d/945b85ed55a0e2aef6182f13cff194208ce6406e983e0bb2e75bb30d4f49/open3d-0.12.0-cp36-cp36m-manylinux2014_x86_64.whl (188.4MB)\n",
            "\u001b[K     |████████████████████████████████| 188.4MB 85kB/s \n",
            "\u001b[?25hRequirement already satisfied: pandas in /usr/local/lib/python3.6/dist-packages (from open3d) (1.1.5)\n",
            "Requirement already satisfied: ipywidgets in /usr/local/lib/python3.6/dist-packages (from open3d) (7.6.3)\n",
            "Requirement already satisfied: widgetsnbextension in /usr/local/lib/python3.6/dist-packages (from open3d) (3.5.1)\n",
            "Collecting plyfile\n",
            "  Downloading https://files.pythonhosted.org/packages/93/c8/cf47848cd4d661850e4a8e7f0fc4f7298515e06d0da7255ed08e5312d4aa/plyfile-0.7.2-py3-none-any.whl\n",
            "Requirement already satisfied: sklearn in /usr/local/lib/python3.6/dist-packages (from open3d) (0.0)\n",
            "Requirement already satisfied: pyyaml in /usr/local/lib/python3.6/dist-packages (from open3d) (3.13)\n",
            "Requirement already satisfied: numpy in /usr/local/lib/python3.6/dist-packages (from open3d) (1.19.5)\n",
            "Requirement already satisfied: notebook in /usr/local/lib/python3.6/dist-packages (from open3d) (5.3.1)\n",
            "Collecting addict\n",
            "  Downloading https://files.pythonhosted.org/packages/6a/00/b08f23b7d7e1e14ce01419a467b583edbb93c6cdb8654e54a9cc579cd61f/addict-2.4.0-py3-none-any.whl\n",
            "Requirement already satisfied: matplotlib in /usr/local/lib/python3.6/dist-packages (from open3d) (3.2.2)\n",
            "Requirement already satisfied: tqdm in /usr/local/lib/python3.6/dist-packages (from open3d) (4.41.1)\n",
            "Requirement already satisfied: python-dateutil>=2.7.3 in /usr/local/lib/python3.6/dist-packages (from pandas->open3d) (2.8.1)\n",
            "Requirement already satisfied: pytz>=2017.2 in /usr/local/lib/python3.6/dist-packages (from pandas->open3d) (2018.9)\n",
            "Requirement already satisfied: jupyterlab-widgets>=1.0.0; python_version >= \"3.6\" in /usr/local/lib/python3.6/dist-packages (from ipywidgets->open3d) (1.0.0)\n",
            "Requirement already satisfied: nbformat>=4.2.0 in /usr/local/lib/python3.6/dist-packages (from ipywidgets->open3d) (5.0.8)\n",
            "Requirement already satisfied: ipython>=4.0.0; python_version >= \"3.3\" in /usr/local/lib/python3.6/dist-packages (from ipywidgets->open3d) (5.5.0)\n",
            "Requirement already satisfied: traitlets>=4.3.1 in /usr/local/lib/python3.6/dist-packages (from ipywidgets->open3d) (4.3.3)\n",
            "Requirement already satisfied: ipykernel>=4.5.1 in /usr/local/lib/python3.6/dist-packages (from ipywidgets->open3d) (4.10.1)\n",
            "Requirement already satisfied: scikit-learn in /usr/local/lib/python3.6/dist-packages (from sklearn->open3d) (0.22.2.post1)\n",
            "Requirement already satisfied: nbconvert in /usr/local/lib/python3.6/dist-packages (from notebook->open3d) (5.6.1)\n",
            "Requirement already satisfied: jupyter-client>=5.2.0 in /usr/local/lib/python3.6/dist-packages (from notebook->open3d) (5.3.5)\n",
            "Requirement already satisfied: jupyter-core>=4.4.0 in /usr/local/lib/python3.6/dist-packages (from notebook->open3d) (4.7.0)\n",
            "Requirement already satisfied: tornado>=4 in /usr/local/lib/python3.6/dist-packages (from notebook->open3d) (5.1.1)\n",
            "Requirement already satisfied: ipython-genutils in /usr/local/lib/python3.6/dist-packages (from notebook->open3d) (0.2.0)\n",
            "Requirement already satisfied: Send2Trash in /usr/local/lib/python3.6/dist-packages (from notebook->open3d) (1.5.0)\n",
            "Requirement already satisfied: terminado>=0.8.1 in /usr/local/lib/python3.6/dist-packages (from notebook->open3d) (0.9.2)\n",
            "Requirement already satisfied: jinja2 in /usr/local/lib/python3.6/dist-packages (from notebook->open3d) (2.11.2)\n",
            "Requirement already satisfied: pyparsing!=2.0.4,!=2.1.2,!=2.1.6,>=2.0.1 in /usr/local/lib/python3.6/dist-packages (from matplotlib->open3d) (2.4.7)\n",
            "Requirement already satisfied: kiwisolver>=1.0.1 in /usr/local/lib/python3.6/dist-packages (from matplotlib->open3d) (1.3.1)\n",
            "Requirement already satisfied: cycler>=0.10 in /usr/local/lib/python3.6/dist-packages (from matplotlib->open3d) (0.10.0)\n",
            "Requirement already satisfied: six>=1.5 in /usr/local/lib/python3.6/dist-packages (from python-dateutil>=2.7.3->pandas->open3d) (1.15.0)\n",
            "Requirement already satisfied: jsonschema!=2.5.0,>=2.4 in /usr/local/lib/python3.6/dist-packages (from nbformat>=4.2.0->ipywidgets->open3d) (2.6.0)\n",
            "Requirement already satisfied: pexpect; sys_platform != \"win32\" in /usr/local/lib/python3.6/dist-packages (from ipython>=4.0.0; python_version >= \"3.3\"->ipywidgets->open3d) (4.8.0)\n",
            "Requirement already satisfied: pygments in /usr/local/lib/python3.6/dist-packages (from ipython>=4.0.0; python_version >= \"3.3\"->ipywidgets->open3d) (2.6.1)\n",
            "Requirement already satisfied: setuptools>=18.5 in /usr/local/lib/python3.6/dist-packages (from ipython>=4.0.0; python_version >= \"3.3\"->ipywidgets->open3d) (51.1.1)\n",
            "Requirement already satisfied: decorator in /usr/local/lib/python3.6/dist-packages (from ipython>=4.0.0; python_version >= \"3.3\"->ipywidgets->open3d) (4.4.2)\n",
            "Requirement already satisfied: pickleshare in /usr/local/lib/python3.6/dist-packages (from ipython>=4.0.0; python_version >= \"3.3\"->ipywidgets->open3d) (0.7.5)\n",
            "Requirement already satisfied: prompt-toolkit<2.0.0,>=1.0.4 in /usr/local/lib/python3.6/dist-packages (from ipython>=4.0.0; python_version >= \"3.3\"->ipywidgets->open3d) (1.0.18)\n",
            "Requirement already satisfied: simplegeneric>0.8 in /usr/local/lib/python3.6/dist-packages (from ipython>=4.0.0; python_version >= \"3.3\"->ipywidgets->open3d) (0.8.1)\n",
            "Requirement already satisfied: joblib>=0.11 in /usr/local/lib/python3.6/dist-packages (from scikit-learn->sklearn->open3d) (1.0.0)\n",
            "Requirement already satisfied: scipy>=0.17.0 in /usr/local/lib/python3.6/dist-packages (from scikit-learn->sklearn->open3d) (1.4.1)\n",
            "Requirement already satisfied: testpath in /usr/local/lib/python3.6/dist-packages (from nbconvert->notebook->open3d) (0.4.4)\n",
            "Requirement already satisfied: mistune<2,>=0.8.1 in /usr/local/lib/python3.6/dist-packages (from nbconvert->notebook->open3d) (0.8.4)\n",
            "Requirement already satisfied: pandocfilters>=1.4.1 in /usr/local/lib/python3.6/dist-packages (from nbconvert->notebook->open3d) (1.4.3)\n",
            "Requirement already satisfied: bleach in /usr/local/lib/python3.6/dist-packages (from nbconvert->notebook->open3d) (3.2.1)\n",
            "Requirement already satisfied: defusedxml in /usr/local/lib/python3.6/dist-packages (from nbconvert->notebook->open3d) (0.6.0)\n",
            "Requirement already satisfied: entrypoints>=0.2.2 in /usr/local/lib/python3.6/dist-packages (from nbconvert->notebook->open3d) (0.3)\n",
            "Requirement already satisfied: pyzmq>=13 in /usr/local/lib/python3.6/dist-packages (from jupyter-client>=5.2.0->notebook->open3d) (20.0.0)\n",
            "Requirement already satisfied: ptyprocess; os_name != \"nt\" in /usr/local/lib/python3.6/dist-packages (from terminado>=0.8.1->notebook->open3d) (0.7.0)\n",
            "Requirement already satisfied: MarkupSafe>=0.23 in /usr/local/lib/python3.6/dist-packages (from jinja2->notebook->open3d) (1.1.1)\n",
            "Requirement already satisfied: wcwidth in /usr/local/lib/python3.6/dist-packages (from prompt-toolkit<2.0.0,>=1.0.4->ipython>=4.0.0; python_version >= \"3.3\"->ipywidgets->open3d) (0.2.5)\n",
            "Requirement already satisfied: webencodings in /usr/local/lib/python3.6/dist-packages (from bleach->nbconvert->notebook->open3d) (0.5.1)\n",
            "Requirement already satisfied: packaging in /usr/local/lib/python3.6/dist-packages (from bleach->nbconvert->notebook->open3d) (20.8)\n",
            "Installing collected packages: plyfile, addict, open3d\n",
            "Successfully installed addict-2.4.0 open3d-0.12.0 plyfile-0.7.2\n",
            "Collecting trimesh\n",
            "\u001b[?25l  Downloading https://files.pythonhosted.org/packages/67/3d/9dc83ffe2bd043f1600a347753bb824adfd9547295424ae0fdd943a21293/trimesh-3.9.1-py3-none-any.whl (628kB)\n",
            "\u001b[K     |████████████████████████████████| 634kB 11.8MB/s \n",
            "\u001b[?25hRequirement already satisfied: numpy in /usr/local/lib/python3.6/dist-packages (from trimesh) (1.19.5)\n",
            "Requirement already satisfied: setuptools in /usr/local/lib/python3.6/dist-packages (from trimesh) (51.1.1)\n",
            "Installing collected packages: trimesh\n",
            "Successfully installed trimesh-3.9.1\n"
          ],
          "name": "stdout"
        }
      ]
    },
    {
      "cell_type": "code",
      "metadata": {
        "id": "4riqc8UDIvw8"
      },
      "source": [
        "import torch\r\n",
        "import open3d as o3d\r\n",
        "import numpy as np\r\n",
        "import trimesh as tm\r\n",
        "import os\r\n",
        "import math\r\n",
        "import plotly.graph_objects as go\r\n",
        "import plotly.express as px"
      ],
      "execution_count": null,
      "outputs": []
    },
    {
      "cell_type": "code",
      "metadata": {
        "id": "xnU6PDi3IwYP"
      },
      "source": [
        "import torch.utils.data as data\r\n"
      ],
      "execution_count": null,
      "outputs": []
    },
    {
      "cell_type": "code",
      "metadata": {
        "colab": {
          "base_uri": "https://localhost:8080/"
        },
        "id": "_SsMPtXiN6FG",
        "outputId": "f9604c55-eab1-4f59-e0aa-7692b929db0b"
      },
      "source": [
        "!git clone https://github.com/dsriwajana/pointcloud"
      ],
      "execution_count": null,
      "outputs": [
        {
          "output_type": "stream",
          "text": [
            "Cloning into 'pointcloud'...\n",
            "remote: Enumerating objects: 80, done.\u001b[K\n",
            "remote: Counting objects: 100% (80/80), done.\u001b[K\n",
            "remote: Compressing objects: 100% (75/75), done.\u001b[K\n",
            "remote: Total 80 (delta 19), reused 0 (delta 0), pack-reused 0\u001b[K\n",
            "Unpacking objects: 100% (80/80), done.\n"
          ],
          "name": "stdout"
        }
      ]
    },
    {
      "cell_type": "code",
      "metadata": {
        "id": "Lsy1FFLzJ-5S"
      },
      "source": [
        "class testDataset(data.Dataset):\r\n",
        "  def __init__(self,root,downsample=0.05):\r\n",
        "    #print(\"initializing...\")\r\n",
        "    self.root = root\r\n",
        "    self.downsample = 0.05\r\n",
        "    # self.points = np.array([])\r\n",
        "    # self.tags = np.array([])\r\n",
        "    self.locations = np.array([])\r\n",
        "    datasetFolder = sorted(os.listdir(self.root))\r\n",
        "    for folder in datasetFolder:\r\n",
        "      if folder == 'train':\r\n",
        "        plyfiles = sorted(os.listdir(self.root + \"/train\"))\r\n",
        "        print(plyfiles)\r\n",
        "        for plyfile in plyfiles:\r\n",
        "          if plyfile.endswith('.ply'):\r\n",
        "            self.locations = np.append(self.locations, [self.root+\"/train/\"+plyfile], axis=0)\r\n",
        "\r\n",
        "            # x = np.transpose(np.array(o3d.io.read_point_cloud(self.root+\"/train/\"+plyfile).voxel_down_sample(voxel_size=self.downsample).points))\r\n",
        "            # print(x.shape)\r\n",
        "            # if self.points.size == 0:\r\n",
        "            #   self.points = [x]\r\n",
        "            # self.points = np.append(self.points, [x], axis=0)\r\n",
        "            # self.tags = np.append(self.tags, [plyfile.split('.')[0]], axis=0)\r\n",
        "\r\n",
        "  def __getitem__(self,index):\r\n",
        "    #print(\"getting item...\")\r\n",
        "    return self.locations[index]\r\n",
        "    # return self.points[index], self.tags[index]\r\n",
        "  \r\n",
        "  def __len__(self):\r\n",
        "    #print(\"length...\")\r\n",
        "    return self.locations.size\r\n",
        "    # return self.points.size"
      ],
      "execution_count": null,
      "outputs": []
    },
    {
      "cell_type": "code",
      "metadata": {
        "colab": {
          "base_uri": "https://localhost:8080/"
        },
        "id": "dsDLUQWLL8_o",
        "outputId": "22a1491f-4077-4e60-f1f4-093912184565"
      },
      "source": [
        "dataset = testDataset(\"/content/pointcloud/dataset\")\r\n",
        "for i in range(len(dataset)):\r\n",
        "  print(dataset.__getitem__(i))\r\n",
        "dataloader = data.DataLoader(dataset=dataset, batch_size=2, shuffle=True, num_workers=0)"
      ],
      "execution_count": null,
      "outputs": [
        {
          "output_type": "stream",
          "text": [
            "['.gitkeep', 'cloud_bin_0.ply', 'cloud_bin_1.ply', 'cloud_bin_2.ply', 'cloud_bin_3.ply', 'cloud_bin_4.ply']\n",
            "/content/pointcloud/dataset/train/cloud_bin_0.ply\n",
            "/content/pointcloud/dataset/train/cloud_bin_1.ply\n",
            "/content/pointcloud/dataset/train/cloud_bin_2.ply\n",
            "/content/pointcloud/dataset/train/cloud_bin_3.ply\n",
            "/content/pointcloud/dataset/train/cloud_bin_4.ply\n"
          ],
          "name": "stdout"
        }
      ]
    },
    {
      "cell_type": "code",
      "metadata": {
        "id": "rTn15eX6L-1g",
        "colab": {
          "base_uri": "https://localhost:8080/"
        },
        "outputId": "707f848d-250d-4d0c-b545-f8679d96ceca"
      },
      "source": [
        "num_epochs = 2\r\n",
        "total_sample = len(dataset)\r\n",
        "n_iterations = math.ceil(total_sample/2)\r\n",
        "for epoch in range(num_epochs):\r\n",
        "  for i, inputs in enumerate(dataloader):\r\n",
        "    print(f'epoch {epoch+1}/{num_epochs}, step {i+1}/{n_iterations}, inputs = {inputs}')\r\n",
        "    print(input)"
      ],
      "execution_count": null,
      "outputs": [
        {
          "output_type": "stream",
          "text": [
            "epoch 1/2, step 1/3, inputs = ['/content/pointcloud/dataset/train/cloud_bin_0.ply', '/content/pointcloud/dataset/train/cloud_bin_2.ply']\n",
            "<bound method Kernel.raw_input of <google.colab._kernel.Kernel object at 0x7fe986e10748>>\n",
            "epoch 1/2, step 2/3, inputs = ['/content/pointcloud/dataset/train/cloud_bin_1.ply', '/content/pointcloud/dataset/train/cloud_bin_4.ply']\n",
            "<bound method Kernel.raw_input of <google.colab._kernel.Kernel object at 0x7fe986e10748>>\n",
            "epoch 1/2, step 3/3, inputs = ['/content/pointcloud/dataset/train/cloud_bin_3.ply']\n",
            "<bound method Kernel.raw_input of <google.colab._kernel.Kernel object at 0x7fe986e10748>>\n",
            "epoch 2/2, step 1/3, inputs = ['/content/pointcloud/dataset/train/cloud_bin_4.ply', '/content/pointcloud/dataset/train/cloud_bin_0.ply']\n",
            "<bound method Kernel.raw_input of <google.colab._kernel.Kernel object at 0x7fe986e10748>>\n",
            "epoch 2/2, step 2/3, inputs = ['/content/pointcloud/dataset/train/cloud_bin_3.ply', '/content/pointcloud/dataset/train/cloud_bin_1.ply']\n",
            "<bound method Kernel.raw_input of <google.colab._kernel.Kernel object at 0x7fe986e10748>>\n",
            "epoch 2/2, step 3/3, inputs = ['/content/pointcloud/dataset/train/cloud_bin_2.ply']\n",
            "<bound method Kernel.raw_input of <google.colab._kernel.Kernel object at 0x7fe986e10748>>\n"
          ],
          "name": "stdout"
        }
      ]
    },
    {
      "cell_type": "code",
      "metadata": {
        "id": "0vN3-2s987Q5"
      },
      "source": [
        ""
      ],
      "execution_count": null,
      "outputs": []
    },
    {
      "cell_type": "code",
      "metadata": {
        "id": "dT9oicsPSgPd"
      },
      "source": [
        ""
      ],
      "execution_count": null,
      "outputs": []
    }
  ]
}